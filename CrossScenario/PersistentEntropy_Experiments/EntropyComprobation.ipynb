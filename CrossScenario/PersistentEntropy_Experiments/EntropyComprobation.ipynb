{
 "cells": [
  {
   "cell_type": "markdown",
   "id": "aa8e9df4-7506-4765-89d6-d8caac41fdd5",
   "metadata": {},
   "source": [
    "**Let's check that both the gudhi function and the one created by me return the same persistent entropy value on a persistence diagram/barcode.**"
   ]
  },
  {
   "cell_type": "code",
   "execution_count": 1,
   "id": "2b829880-6430-44b7-b99d-c8a24a59a3f0",
   "metadata": {},
   "outputs": [],
   "source": [
    "import numpy as np\n",
    "import numpy.random as rd\n",
    "import gudhi as gd\n",
    "import gudhi.representations\n",
    "import matplotlib.pyplot as plt\n",
    "import random\n",
    "rd.seed(1)\n",
    "\n",
    "# import created library for experiments.\n",
    "import importlib.util\n",
    "from pathlib import Path\n",
    "ruta_archivo = Path(\"../..\") / \"functions.py\"\n",
    "spec = importlib.util.spec_from_file_location(\"functions\", ruta_archivo)\n",
    "fu = importlib.util.module_from_spec(spec)\n",
    "spec.loader.exec_module(fu)"
   ]
  },
  {
   "cell_type": "code",
   "execution_count": 2,
   "id": "910dd061-e27b-43f6-b1a2-0150967d294f",
   "metadata": {},
   "outputs": [
    {
     "data": {
      "image/png": "[encoded data removed]",
      "text/plain": [
       "<Figure size 640x480 with 1 Axes>"
      ]
     },
     "metadata": {},
     "output_type": "display_data"
    }
   ],
   "source": [
    "normal_pcs = []\n",
    "uniform_pcs = []\n",
    "for i in range(100):\n",
    "    normal_pcs.append(rd.normal(size = [100,2]))\n",
    "    uniform_pcs.append(rd.uniform(size = [100,2], low=-2, high=2))\n",
    "\n",
    "#we show the first point cloud of each type as an example\n",
    "fig, ax = plt.subplots()\n",
    "normal_pc = normal_pcs[0]\n",
    "uniform_pc = uniform_pcs[0]\n",
    "ax.scatter(normal_pc[:,0], normal_pc[:,1], s=15, label = 'normal')\n",
    "ax.scatter(uniform_pc[:,0], uniform_pc[:,1], s=15, label = 'uniform')\n",
    "ax.legend()\n",
    "plt.show()"
   ]
  },
  {
   "cell_type": "code",
   "execution_count": 3,
   "id": "9d7a6245-5397-4e99-9a01-312425bcc96a",
   "metadata": {},
   "outputs": [],
   "source": [
    "dgms_normal = []\n",
    "for pc in normal_pcs:\n",
    "    rips = gudhi.RipsComplex(points=pc).create_simplex_tree(max_dimension=1)\n",
    "    rips.compute_persistence()\n",
    "    dgms_normal.append(rips.persistence_intervals_in_dimension(0))\n",
    "    \n",
    "dgms_uniform = []\n",
    "for pc in uniform_pcs:\n",
    "    rips = gudhi.RipsComplex(points=pc).create_simplex_tree(max_dimension=1)\n",
    "    rips.compute_persistence()\n",
    "    dgms_uniform.append(rips.persistence_intervals_in_dimension(0))"
   ]
  },
  {
   "cell_type": "code",
   "execution_count": 4,
   "id": "91c2bf48-62fd-4eb9-986b-324329d5316c",
   "metadata": {},
   "outputs": [],
   "source": [
    "# we create a lambda function which removes the infinity bars from a barcode.\n",
    "remove_infinity = lambda barcode : np.array([bars for bars in barcode if bars[1]!= np.inf])\n",
    "# apply this operator to all barcodes.\n",
    "dgms_normal = list(map(remove_infinity, dgms_normal))\n",
    "dgms_uniform = list(map(remove_infinity, dgms_uniform))"
   ]
  },
  {
   "cell_type": "code",
   "execution_count": 5,
   "id": "123ceaae-9bf9-4760-81be-5e9900b5513e",
   "metadata": {},
   "outputs": [
    {
     "data": {
      "text/plain": [
       "99"
      ]
     },
     "execution_count": 5,
     "metadata": {},
     "output_type": "execute_result"
    }
   ],
   "source": [
    "len(dgms_normal[0])"
   ]
  },
  {
   "cell_type": "code",
   "execution_count": 7,
   "id": "89d134f7-89f2-4072-9a22-0327cf8381e9",
   "metadata": {},
   "outputs": [
    {
     "data": {
      "text/plain": [
       "4.59511985013459"
      ]
     },
     "execution_count": 7,
     "metadata": {},
     "output_type": "execute_result"
    }
   ],
   "source": [
    "np.log(99) #maximum persistent entropy"
   ]
  },
  {
   "cell_type": "code",
   "execution_count": 8,
   "id": "8e09fee3-b375-44b2-8385-120e372b415b",
   "metadata": {},
   "outputs": [
    {
     "data": {
      "text/plain": [
       "array([[4.37779285],\n",
       "       [4.46314427],\n",
       "       [4.37882067],\n",
       "       [4.39868606],\n",
       "       [4.34488209],\n",
       "       [4.43111221],\n",
       "       [4.3277631 ],\n",
       "       [4.42686533],\n",
       "       [4.32486701]])"
      ]
     },
     "execution_count": 8,
     "metadata": {},
     "output_type": "execute_result"
    }
   ],
   "source": [
    "PE = gd.representations.Entropy()\n",
    "pe_normal = PE.fit_transform(dgms_normal)\n",
    "pe_normal[:9]"
   ]
  },
  {
   "cell_type": "code",
   "execution_count": 10,
   "id": "d5e90f16-9945-4170-92d7-62f2c5e59b21",
   "metadata": {},
   "outputs": [
    {
     "name": "stdout",
     "output_type": "stream",
     "text": [
      "4.3778\n",
      "4.4631\n",
      "4.3788\n",
      "4.3987\n",
      "4.3449\n",
      "4.4311\n",
      "4.3278\n",
      "4.4269\n",
      "4.3249\n",
      "4.4031\n"
     ]
    }
   ],
   "source": [
    "for i in range(10):\n",
    "    print(fu.EntropyCalculationFromBarcode(dgms_normal[i]))"
   ]
  },
  {
   "cell_type": "code",
   "execution_count": 11,
   "id": "3e5d4859-df74-48ec-bd3c-ce4ab8a39ff1",
   "metadata": {},
   "outputs": [
    {
     "data": {
      "text/plain": [
       "array([[4.48622121],\n",
       "       [4.44512338],\n",
       "       [4.47480549],\n",
       "       [4.42726623],\n",
       "       [4.4749265 ],\n",
       "       [4.48355902],\n",
       "       [4.47668513],\n",
       "       [4.48049865],\n",
       "       [4.45978629]])"
      ]
     },
     "execution_count": 11,
     "metadata": {},
     "output_type": "execute_result"
    }
   ],
   "source": [
    "pe_uniform = PE.fit_transform(dgms_uniform)\n",
    "pe_uniform[:9]"
   ]
  },
  {
   "cell_type": "code",
   "execution_count": 12,
   "id": "d3ba5ec6-2944-429d-9801-34c219d9f1ef",
   "metadata": {},
   "outputs": [
    {
     "name": "stdout",
     "output_type": "stream",
     "text": [
      "4.4862\n",
      "4.4451\n",
      "4.4748\n",
      "4.4273\n",
      "4.4749\n",
      "4.4836\n",
      "4.4767\n",
      "4.4805\n",
      "4.4598\n",
      "4.4221\n"
     ]
    }
   ],
   "source": [
    "for i in range(10):\n",
    "    print(fu.EntropyCalculationFromBarcode(dgms_uniform[i]))"
   ]
  }
 ],
 "metadata": {
  "kernelspec": {
   "display_name": "Python 3 (ipykernel)",
   "language": "python",
   "name": "python3"
  },
  "language_info": {
   "codemirror_mode": {
    "name": "ipython",
    "version": 3
   },
   "file_extension": ".py",
   "mimetype": "text/x-python",
   "name": "python",
   "nbconvert_exporter": "python",
   "pygments_lexer": "ipython3",
   "version": "3.10.12"
  }
 },
 "nbformat": 4,
 "nbformat_minor": 5
}
